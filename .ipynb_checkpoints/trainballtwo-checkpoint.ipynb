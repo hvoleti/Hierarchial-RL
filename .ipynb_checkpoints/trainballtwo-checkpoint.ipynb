{
 "cells": [
  {
   "cell_type": "code",
   "execution_count": 1,
   "id": "c076eb3b-8059-4d26-8701-9131f32ec736",
   "metadata": {},
   "outputs": [
    {
     "name": "stdout",
     "output_type": "stream",
     "text": [
      "C:\\Users\\hvoleti\\miniconda3\\envs\\uitb\\python.exe\n"
     ]
    }
   ],
   "source": [
    "import sys\n",
    "import os\n",
    "\n",
    "print(sys.executable)\n"
   ]
  },
  {
   "cell_type": "code",
   "execution_count": 2,
   "id": "800ca871-8b74-421b-b19a-bf3ad8c7a749",
   "metadata": {},
   "outputs": [],
   "source": [
    "project_path = os.path.abspath(\"../HierarchialRL\")\n",
    "sys.path.append(project_path)"
   ]
  },
  {
   "cell_type": "code",
   "execution_count": 3,
   "id": "af95fc7a-df1e-4ec7-81aa-6835f6d2b952",
   "metadata": {},
   "outputs": [],
   "source": [
    "from ball1 import BallOne\n",
    "from stable_baselines3.common.env_checker import check_env\n",
    "from stable_baselines3 import PPO\n",
    "from stable_baselines3.ppo.policies import MlpPolicy\n",
    "from stable_baselines3.common.evaluation import evaluate_policy\n",
    "from stable_baselines3.common.monitor import Monitor"
   ]
  },
  {
   "cell_type": "code",
   "execution_count": 4,
   "id": "da4b2183-25fe-46fd-9fde-d0ccef56bc54",
   "metadata": {},
   "outputs": [],
   "source": [
    "env = BallOne()"
   ]
  },
  {
   "cell_type": "code",
   "execution_count": 5,
   "id": "55087627-0643-4b09-b0e1-7f9ddfcfad79",
   "metadata": {},
   "outputs": [],
   "source": [
    "check_env(env, warn=True)"
   ]
  },
  {
   "cell_type": "code",
   "execution_count": 6,
   "id": "e3dc1ebb-97d7-444e-bf61-5fe7c8d2679b",
   "metadata": {},
   "outputs": [],
   "source": [
    "model = PPO(MlpPolicy, env, verbose=0)"
   ]
  },
  {
   "cell_type": "code",
   "execution_count": 7,
   "id": "5066e71c-25ac-4ff8-9991-51b3ce68e4d3",
   "metadata": {},
   "outputs": [
    {
     "data": {
      "text/plain": [
       "<stable_baselines3.ppo.ppo.PPO at 0x2581ed60220>"
      ]
     },
     "execution_count": 7,
     "metadata": {},
     "output_type": "execute_result"
    }
   ],
   "source": [
    "model.learn(total_timesteps=10_000)"
   ]
  },
  {
   "cell_type": "code",
   "execution_count": 8,
   "id": "f053a5b7-9013-4ede-ba80-0d5e91d08623",
   "metadata": {},
   "outputs": [],
   "source": [
    "env = Monitor(env)     # Wrap it with Monitor"
   ]
  },
  {
   "cell_type": "code",
   "execution_count": 11,
   "id": "8bea8420-4ccb-4173-b7dd-ec9bf0bfccc7",
   "metadata": {},
   "outputs": [
    {
     "name": "stdout",
     "output_type": "stream",
     "text": [
      "mean_reward:0.40 +/- 0.80\n"
     ]
    }
   ],
   "source": [
    "mean_reward, std_reward = evaluate_policy(model, env, n_eval_episodes=5)\n",
    "print(f\"mean_reward:{mean_reward:.2f} +/- {std_reward:.2f}\")"
   ]
  },
  {
   "cell_type": "code",
   "execution_count": 13,
   "id": "4e416a64-6aea-4041-9294-d5dde57cd962",
   "metadata": {},
   "outputs": [],
   "source": [
    "import pygame\n",
    "import imageio\n",
    "import numpy as np\n",
    "\n",
    "\n"
   ]
  },
  {
   "cell_type": "code",
   "execution_count": 14,
   "id": "94c69f3f-1232-413e-b162-403796290145",
   "metadata": {},
   "outputs": [],
   "source": [
    "def record_video_manual(env, model, video_length=500, path=\"videos/manual_pygame.mp4\"):\n",
    "    frames = []\n",
    "\n",
    "    obs, _ = env.reset()\n",
    "    for _ in range(video_length):\n",
    "        # Take an action\n",
    "        action, _ = model.predict(obs)\n",
    "        obs, _, terminated, truncated, _ = env.step(action)\n",
    "\n",
    "        # Render frame\n",
    "        env.render()  # regular pygame rendering\n",
    "\n",
    "        # Capture frame from pygame surface\n",
    "        surface = pygame.display.get_surface()\n",
    "        if surface:\n",
    "            frame = pygame.surfarray.array3d(surface)  # shape (W, H, 3)\n",
    "            frame = np.transpose(frame, (1, 0, 2))     # Convert to (H, W, 3)\n",
    "            frames.append(frame)\n",
    "\n",
    "        if terminated or truncated:\n",
    "            break\n",
    "\n",
    "    # Save video\n",
    "    imageio.mimsave(path, frames, fps=10)\n",
    "    print(f\"Saved video to: {path}\")"
   ]
  },
  {
   "cell_type": "code",
   "execution_count": null,
   "id": "dbba2133-fa00-4adb-a33a-5379ab65aeb7",
   "metadata": {},
   "outputs": [],
   "source": []
  }
 ],
 "metadata": {
  "kernelspec": {
   "display_name": "Python 3 (ipykernel)",
   "language": "python",
   "name": "python3"
  },
  "language_info": {
   "codemirror_mode": {
    "name": "ipython",
    "version": 3
   },
   "file_extension": ".py",
   "mimetype": "text/x-python",
   "name": "python",
   "nbconvert_exporter": "python",
   "pygments_lexer": "ipython3",
   "version": "3.10.18"
  }
 },
 "nbformat": 4,
 "nbformat_minor": 5
}
